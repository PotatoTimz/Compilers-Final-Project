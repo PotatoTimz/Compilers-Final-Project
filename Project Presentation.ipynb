{
 "cells": [
  {
   "cell_type": "code",
   "execution_count": 4,
   "id": "ff197267-b9fe-4397-9b1f-dd346fcadda1",
   "metadata": {
    "tags": []
   },
   "outputs": [],
   "source": [
    "// [THIS IS READ-ONLY]\n",
    "@file:DependsOn(\"/antlr-4.11.1-complete.jar\")\n",
    "@file:DependsOn(\"./target\")"
   ]
  },
  {
   "cell_type": "code",
   "execution_count": 5,
   "id": "a4bc3e99-3ae4-4251-8c16-4e0ed72e11a2",
   "metadata": {
    "tags": []
   },
   "outputs": [],
   "source": [
    "// [THIS IS READ-ONLY]\n",
    "import org.antlr.v4.runtime.*\n",
    "import backend.*"
   ]
  },
  {
   "cell_type": "markdown",
   "id": "4a9e41fd-edc1-4783-8a40-bcb5d23e9bf2",
   "metadata": {},
   "source": [
    "# Backend\n",
    "\n",
    "This is a modification to assignment 3. Featuring the inclusion of **Lists** and aggeregate functions that can be applied onto the list.\n",
    "\n",
    "## Data Types Added\n",
    "\n",
    "* ListIntData\n",
    "* ListStringData\n",
    "\n",
    "Data types that store a either a list of strings or a list of numbers. Note that both lists must contain values of a specific type (ie ListIntData must contain only integers)"
   ]
  },
  {
   "cell_type": "code",
   "execution_count": 6,
   "id": "f3ae648a-cf11-49f7-8c31-819de64f6360",
   "metadata": {
    "tags": []
   },
   "outputs": [
    {
     "data": {
      "text/plain": [
       "[1, 2, 3]"
      ]
     },
     "execution_count": 6,
     "metadata": {},
     "output_type": "execute_result"
    }
   ],
   "source": [
    "ListIntData(listOf(1, 2, 3))"
   ]
  },
  {
   "cell_type": "code",
   "execution_count": 7,
   "id": "81c00f52-0050-414f-9d5a-df5dd4f30b8a",
   "metadata": {
    "tags": []
   },
   "outputs": [
    {
     "data": {
      "text/plain": [
       "[Hello, World]"
      ]
     },
     "execution_count": 7,
     "metadata": {},
     "output_type": "execute_result"
    }
   ],
   "source": [
    "ListStringData(listOf(\"Hello\", \"World\"))"
   ]
  },
  {
   "cell_type": "markdown",
   "id": "aba8730a-623a-4629-9a6f-77335d44c6f1",
   "metadata": {},
   "source": [
    "### List Creation Expressions\n",
    "* **ListStringLiteral**(lexeme: List\\<String>)\n",
    "* **ListIntLiteral**(lexeme: List\\<String>)"
   ]
  },
  {
   "cell_type": "code",
   "execution_count": 11,
   "id": "747977bd-723f-4f1a-9e88-91ab969ed648",
   "metadata": {
    "tags": []
   },
   "outputs": [
    {
     "data": {
      "text/plain": [
       "[Goodbye, World]"
      ]
     },
     "execution_count": 11,
     "metadata": {},
     "output_type": "execute_result"
    }
   ],
   "source": [
    "ListStringLiteral(listOf(\"Goodbye\", \"World\")).eval(Runtime())"
   ]
  },
  {
   "cell_type": "code",
   "execution_count": 14,
   "id": "777f96b3-5df1-468d-8445-a466e5b194f3",
   "metadata": {
    "tags": []
   },
   "outputs": [
    {
     "data": {
      "text/plain": [
       "[3, 2, 1]"
      ]
     },
     "execution_count": 14,
     "metadata": {},
     "output_type": "execute_result"
    }
   ],
   "source": [
    "ListIntLiteral(listOf(3, 2, 1)).eval(Runtime())"
   ]
  },
  {
   "cell_type": "markdown",
   "id": "7e1312e5-2224-4dda-889e-6267279ed848",
   "metadata": {},
   "source": [
    "### List Modification Expressions\n",
    "* **ListAddAt**(index: Expr, Name: String, expr: Expr): Adds an item to an existing list. The item is placed at the declared index.\n",
    "* **ReassignList**(index: Expr, Name: String, expr: Expr): Given a list's index replace the item with another declared item.\n",
    "* **ListAddFrontBack**(front: Boolean, Name: String, expr: Expr): Add an item to the front or back of a list.\n",
    "* **DerefList**(name: String, index: Expr): Returns an item from a list based of the index.\n"
   ]
  },
  {
   "cell_type": "code",
   "execution_count": 36,
   "id": "62d5de2b-a7b0-4f06-87d4-60020baad7e5",
   "metadata": {
    "tags": []
   },
   "outputs": [
    {
     "name": "stdout",
     "output_type": "stream",
     "text": [
      "[5, 100, 5, 20, 3]\n",
      "[Tracy, Cathrine, Lawrence, Cassandra]\n"
     ]
    },
    {
     "data": {
      "text/plain": [
       "Test"
      ]
     },
     "execution_count": 36,
     "metadata": {},
     "output_type": "execute_result"
    }
   ],
   "source": [
    "val r = Runtime()\n",
    "Assign(\"x\", ListIntLiteral(listOf(5, 100, 5, 20, 3))).eval(r)\n",
    "Assign(\"y\", ListStringLiteral(listOf(\"Tracy\", \"Cathrine\", \"Lawrence\", \"Cassandra\"))).eval(r)\n",
    "Output(listOf(Deref(\"x\"), Deref(\"y\"))).eval(r)"
   ]
  },
  {
   "cell_type": "code",
   "execution_count": 37,
   "id": "ff14042d-c484-4b61-88ac-91aa43657852",
   "metadata": {
    "tags": []
   },
   "outputs": [
    {
     "name": "stdout",
     "output_type": "stream",
     "text": [
      "[5, 100, 5, 20, 3]\n",
      "[Tracy, Cathrine, Lawrence, Cassandra]\n",
      "[10, 100, 50, 5, 20, 3]\n",
      "[Tim, Tracy, Cathrine, Lawrence, Cassandra, Bob]\n"
     ]
    },
    {
     "data": {
      "text/plain": [
       "Test"
      ]
     },
     "execution_count": 37,
     "metadata": {},
     "output_type": "execute_result"
    }
   ],
   "source": [
    "Block(\n",
    "    listOf(\n",
    "        Output(\n",
    "            listOf(\n",
    "                Deref(\"x\"),\n",
    "                Deref(\"y\")\n",
    "            )\n",
    "        ),\n",
    "        ListAddAt(IntLiteral(\"2\"), \"x\", IntLiteral(\"50\")),\n",
    "        ReassignList(IntLiteral(\"0\"), \"x\", IntLiteral(\"10\")),\n",
    "        ListAddFrontBack(false, \"y\", StringLiteral(\"Bob\")),\n",
    "        ListAddFrontBack(true, \"y\", StringLiteral(\"Tim\")),\n",
    "        Output(\n",
    "            listOf(\n",
    "                Deref(\"x\"),\n",
    "                Deref(\"y\")\n",
    "            )\n",
    "        ),\n",
    "    )\n",
    ").eval(r)"
   ]
  },
  {
   "cell_type": "markdown",
   "id": "7d926d1d-3a4a-4151-9843-354ee3d3a16e",
   "metadata": {},
   "source": [
    "### List Aggregation Expressions\n",
    "* MaxList(list: Expr): Gets the largest number from a list of integers\n",
    "* MinList(list: Expr): Gets the smallest number from a list of integers\n",
    "* AverageList(list : Expr): Gets the average value from a list of integers\n",
    "* SumList(list: Expr): Gets the sum from a list of integers\n",
    "* CountList(list: expr): Gets the size from a list\n",
    "* MapList(funcname: String, name: String, arguements: List\\<Expr>): Applies a function to each item within a list. The function will run through each item using the itterated item as the last parameter of the function. The other parameters in the function must also be declared."
   ]
  },
  {
   "cell_type": "code",
   "execution_count": 40,
   "id": "2f98d7e6-3ace-4186-a004-17403b97708a",
   "metadata": {
    "tags": []
   },
   "outputs": [
    {
     "name": "stdout",
     "output_type": "stream",
     "text": [
      "[1, 2, 3, 4, 5]\n",
      "[Tracy, Cathrine, Lawrence, Cassandra]\n"
     ]
    },
    {
     "data": {
      "text/plain": [
       "Test"
      ]
     },
     "execution_count": 40,
     "metadata": {},
     "output_type": "execute_result"
    }
   ],
   "source": [
    "val r = Runtime()\n",
    "Assign(\"x\", ListIntLiteral(listOf(1,2,3,4,5))).eval(r)\n",
    "Assign(\"y\", ListStringLiteral(listOf(\"Tracy\", \"Cathrine\", \"Lawrence\", \"Cassandra\"))).eval(r)\n",
    "Output(listOf(Deref(\"x\"), Deref(\"y\"))).eval(r)"
   ]
  },
  {
   "cell_type": "code",
   "execution_count": 43,
   "id": "71c26e40-d282-454a-9928-9ce910a7aef1",
   "metadata": {
    "tags": []
   },
   "outputs": [
    {
     "name": "stdout",
     "output_type": "stream",
     "text": [
      "[1, 2, 3, 4, 5]\n",
      "[Tracy, Cathrine, Lawrence, Cassandra]\n",
      "5\n",
      "1\n",
      "3\n",
      "15\n",
      "4\n"
     ]
    },
    {
     "data": {
      "text/plain": [
       "Test"
      ]
     },
     "execution_count": 43,
     "metadata": {},
     "output_type": "execute_result"
    }
   ],
   "source": [
    "Block(\n",
    "    listOf(\n",
    "        Output(\n",
    "            listOf(\n",
    "                Deref(\"x\"),\n",
    "                Deref(\"y\"),\n",
    "                \n",
    "                MaxList(Deref(\"x\")),\n",
    "                MinList(Deref(\"x\")),\n",
    "                AverageList(Deref(\"x\")),\n",
    "                SumList(Deref(\"x\")),\n",
    "                CountList(Deref(\"y\")),\n",
    "            )\n",
    "        ),\n",
    "        Declare(\n",
    "            name = \"greeting\",\n",
    "            parameters = listOf(\"x\"), \n",
    "            body = Block(\n",
    "                listOf(\n",
    "                    Arith(\n",
    "                        Operator.ADD,\n",
    "                        StringLiteral(\"Hello \"),\n",
    "                        Deref(\"x\")\n",
    "                    )\n",
    "                )\n",
    "            )\n",
    "        ),\n",
    "        Assign(\"y\",\n",
    "            MapList(\n",
    "                funcname = \"greeting\",\n",
    "                name = \"y\",\n",
    "                arguments = listOf(\n",
    "                )\n",
    "            ),\n",
    "        ),    \n",
    "        Output(listOf(        DerefList(\"y\", IntLiteral(\"2\"))))\n",
    "    )\n",
    ").eval(r)"
   ]
  },
  {
   "cell_type": "markdown",
   "id": "6a2d7bc0-bc40-4485-85a0-2cc6945a7791",
   "metadata": {
    "tags": []
   },
   "source": [
    "# Frontend\n",
    "\n",
    "Here is a demo of the syntax needed to use this programming language."
   ]
  },
  {
   "cell_type": "code",
   "execution_count": 3,
   "id": "c2540452-bae8-4b53-a405-d564dae26d66",
   "metadata": {
    "tags": []
   },
   "outputs": [],
   "source": [
    "// [THIS IS READ-ONLY]\n",
    "fun execute(source:String) {\n",
    "    val errorlistener = object: BaseErrorListener() {\n",
    "        override fun syntaxError(recognizer: Recognizer<*,*>,\n",
    "               offendingSymbol: Any?,\n",
    "               line: Int,\n",
    "               pos: Int,\n",
    "               msg: String,\n",
    "               e: RecognitionException?) {\n",
    "            throw Exception(\"${e} at line:${line}, char:${pos}\")\n",
    "        }\n",
    "    }\n",
    "    val input = CharStreams.fromString(source)\n",
    "    val lexer = PLLexer(input).apply {\n",
    "        removeErrorListeners()\n",
    "        addErrorListener(errorlistener)\n",
    "    }\n",
    "    val tokens = CommonTokenStream(lexer)\n",
    "    val parser = PLParser(tokens).apply {\n",
    "        removeErrorListeners()\n",
    "        addErrorListener(errorlistener)\n",
    "    }    \n",
    "    \n",
    "    try {\n",
    "        val result = parser.program()\n",
    "        result.expr.eval(Runtime())\n",
    "    } catch(e:Exception) {\n",
    "        println(\"Error: ${e}\")\n",
    "    }\n",
    "}"
   ]
  },
  {
   "cell_type": "markdown",
   "id": "0340c96b-faf8-41d5-9523-2f606759de64",
   "metadata": {},
   "source": [
    "## Data Types Supported / Declarable Values|\n",
    "\n",
    "Integer type\\\n",
    "String type\\\n",
    "Boolean type\\\n",
    "List type (Integer and String)\\\n",
    "Functions type\n",
    "\n",
    "## Variable Decleration\n",
    "\n",
    "Done through defining the (1) **Variable_Name**, (2) **Variable_Value** (3) and spacing it out with \" = \"\\\n",
    "Lists can be declared the same way by using square bracket\n",
    "\n",
    "&nbsp; *Variable_name* = **Variable_Value**\n",
    "\n",
    "**Note**: Spacing for the some of the functions are sensitive\n",
    "### Example:"
   ]
  },
  {
   "cell_type": "code",
   "execution_count": 4,
   "id": "257b637f-df7e-4dd3-9d5d-82fbe2b9d00c",
   "metadata": {
    "tags": []
   },
   "outputs": [
    {
     "name": "stdout",
     "output_type": "stream",
     "text": [
      "String Type Value\n",
      "Hello\n",
      "Integer Type Value\n",
      "20\n",
      "String List Type Value\n",
      "[Hello, World, .]\n",
      "Integer List Type Value\n",
      "[1, 100, 200, 30]\n"
     ]
    }
   ],
   "source": [
    "val program = \"\"\"\n",
    "print(\"String Type Value\");\n",
    "x = \"Hello\";\n",
    "print(x);\n",
    "\n",
    "print(\"Integer Type Value\");\n",
    "x = 20;\n",
    "print(x);\n",
    "\n",
    "print(\"String List Type Value\");\n",
    "x = [\"Hello\", \"World\", \".\"];\n",
    "print(x);\n",
    "\n",
    "print(\"Integer List Type Value\");\n",
    "x = [1, 100, 200, 30];\n",
    "print(x);\n",
    "\"\"\"\n",
    "\n",
    "execute(program)"
   ]
  },
  {
   "cell_type": "markdown",
   "id": "0966199a-062c-4ff3-9c5c-c5402fe750f8",
   "metadata": {},
   "source": [
    "## Lists\n",
    "\n",
    "Like other programming languages specific values stored inside of a list can be accessed. Where the index number goes from 0 -> n (number of items in the list)\n",
    "\n",
    "### Editing an Existing List\n",
    "\n",
    "You can update an already declared list\n",
    "\n",
    "&nbsp; *array_name*[**index_number**] = new_value"
   ]
  },
  {
   "cell_type": "code",
   "execution_count": 5,
   "id": "0f7dfe3d-10b4-48f7-9e00-8da988a36356",
   "metadata": {
    "tags": []
   },
   "outputs": [
    {
     "name": "stdout",
     "output_type": "stream",
     "text": [
      "[5, 4, 3, 2, 1]\n"
     ]
    }
   ],
   "source": [
    "val program = \"\"\"\n",
    "x = [1, 2, 3, 4, 5];\n",
    "\n",
    "x[0] = 5;\n",
    "x[1] = 4;\n",
    "x[2] = 3;\n",
    "x[3] = 2;\n",
    "x[4] = 1;\n",
    "\n",
    "print(x);\n",
    "\"\"\"\n",
    "\n",
    "execute(program)"
   ]
  },
  {
   "cell_type": "markdown",
   "id": "ab618b73-d5c5-47ea-8f64-3b1882f2d7cf",
   "metadata": {},
   "source": [
    "### Adding to Existing List\n",
    "\n",
    "&nbsp; *array_name*[**index_number**]\n",
    "\n",
    "You can also edit lists after they are declared by adding values at a specified index\n",
    "\n",
    "&nbsp; *array_name*.add(**item_to_be_added**, **index_number**)\n",
    "\n",
    "There are also shortcuts to add items to the front or back of a list\n",
    "\n",
    "&nbsp; *array_name*.add(**item_to_be_added**, front)\\\n",
    "&nbsp; *array_name*.add(**item_to_be_added**, back)\n"
   ]
  },
  {
   "cell_type": "code",
   "execution_count": 6,
   "id": "79fe2023-1fce-4134-9553-c9f185b079c5",
   "metadata": {
    "tags": []
   },
   "outputs": [
    {
     "name": "stdout",
     "output_type": "stream",
     "text": [
      "[10, 1, 10, 2, 3, 4, 5]\n",
      "[ADDED TO FRONT, Hello, World, ADDED TO BACK]\n"
     ]
    }
   ],
   "source": [
    "val program = \"\"\"\n",
    "x = [1, 2, 3, 4, 5];\n",
    "y = [\"Hello\", \"World\"];\n",
    "\n",
    "x.add(10, 0);\n",
    "x.add(10, 2);\n",
    "print(x);\n",
    "\n",
    "y.add(\"ADDED TO FRONT\", front);\n",
    "y.add(\"ADDED TO BACK\", back);\n",
    "print(y);\n",
    "\"\"\"\n",
    "\n",
    "execute(program)"
   ]
  },
  {
   "cell_type": "markdown",
   "id": "5c5876d4-8877-481d-95de-9389d0b924db",
   "metadata": {},
   "source": [
    "### List Aggregate Functions\n",
    "\n",
    "##### Max\n",
    "Given a list of integers returns the largest number in the list\n",
    "\n",
    "&nbsp; max(*array_name*);\n",
    "\n",
    "##### Min\n",
    "Given a list of integers returns the smallest number in the list\n",
    "\n",
    "&nbsp; min(*array_name*);\n",
    "\n",
    "##### Sum\n",
    "Given a list of integers returns the sum of the list\n",
    "\n",
    "&nbsp; sum(*array_name*);\n",
    "\n",
    "##### Average\n",
    "Given a list of integers returns the average of the values in the list\n",
    "\n",
    "&nbsp; avg(*array_name*);\n",
    "\n",
    "##### Size\n",
    "Given any list returns the amount of items inside the list\n",
    "\n",
    "&nbsp; size(*array_name*);\n",
    "\n",
    "**Note:** that each of these functions returns a an Integer value"
   ]
  },
  {
   "cell_type": "code",
   "execution_count": 7,
   "id": "aa5b9eb6-3228-46e3-918d-82251444f957",
   "metadata": {
    "tags": []
   },
   "outputs": [
    {
     "name": "stdout",
     "output_type": "stream",
     "text": [
      "Max:\n",
      "5\n",
      "Min:\n",
      "1\n",
      "Sum:\n",
      "15\n",
      "Avg:\n",
      "3\n",
      "Size of x:\n",
      "5\n",
      "Size of y:\n",
      "2\n"
     ]
    }
   ],
   "source": [
    "val program = \"\"\"\n",
    "x = [1, 2, 3, 4, 5];\n",
    "y = [\"Hello\", \"World\"];\n",
    "\n",
    "print(\"Max:\");\n",
    "print(max(x));\n",
    "\n",
    "print(\"Min:\");\n",
    "print(min(x));\n",
    "\n",
    "print(\"Sum:\");\n",
    "print(sum(x));\n",
    "\n",
    "print(\"Avg:\");\n",
    "print(avg(x));\n",
    "\n",
    "print(\"Size of x:\");\n",
    "print(size(x));\n",
    "print(\"Size of y:\");\n",
    "print(size(y));\n",
    "\"\"\"\n",
    "\n",
    "execute(program)"
   ]
  },
  {
   "cell_type": "markdown",
   "id": "403b3301-f77a-4e4d-b55c-4c343f14b8c8",
   "metadata": {},
   "source": [
    "## Arithmetics\n",
    "\n",
    "Arithmetics for both strings and integers are supported.\n",
    "\n",
    "**Opperations**\\\n",
    "&nbsp; \"+\" -> Addition for integers | \"++\" -> Addition for strings\\\n",
    "&nbsp; \"-\" -> Subtraction\\\n",
    "&nbsp; \"*\" -> Multiplacation\\\n",
    "&nbsp; \"/\" -> Division\n",
    "\n",
    "\n",
    "**Integers:** can be (1) added, (2) subtracted, (3) multiplied and (4) divided\\\n",
    "**Strings:** can be (1) added and (2) multiplied\n",
    "\n",
    "&nbsp; *value_one* operation *value_two*\n",
    "\n",
    "Performing arithmetics with an integer will return an integer and performing arithmetics with a string wil retturn a string \n",
    "\n",
    "The operations are performed from left to right. However **brackets** can be used to operations"
   ]
  },
  {
   "cell_type": "code",
   "execution_count": 8,
   "id": "ab7e1dec-a9ae-4ec2-a0e1-b32028f7704c",
   "metadata": {
    "tags": []
   },
   "outputs": [
    {
     "name": "stdout",
     "output_type": "stream",
     "text": [
      "1 Goodbye World\n",
      "2 Hello Hello World\n"
     ]
    }
   ],
   "source": [
    "val program = \"\"\"\n",
    "a = [1, 2, 3, 4, 5];\n",
    "x = \"Hello\";\n",
    "y = \"Goodbye\";\n",
    "z = \"World\";\n",
    "\n",
    "\n",
    "print(a[0] ++ \" \" ++ y ++ \" \" ++ z);\n",
    "print(a[1] ++ \" \" ++ (a[1] * (x ++ \" \")) ++ z);\n",
    "\"\"\"\n",
    "\n",
    "execute(program)"
   ]
  },
  {
   "cell_type": "markdown",
   "id": "3dbc7cf9-0fcb-4c1e-9b12-e68a44a6b62d",
   "metadata": {},
   "source": [
    "## If Else Statements\n",
    "\n",
    "Given a boolean statement perform one block or another\n",
    "\n",
    "<strong>Comparitive Statements:</strong>\\\n",
    "&nbsp; \"<\" -> Lower than\\\n",
    "&nbsp; \"==\" -> Equal\\\n",
    "&nbsp; \">\" -> Greater than\n",
    "\n",
    "To declare an ifelse statement you must provide a (1) **comparitive statement**, (2) **if_body** and (3) **else_body**. Depending on the boolean value returned by the comparitive statement the if or the else body will be outputed\n",
    "\n",
    "&nbsp; if(**comparitive_statement**) {\\\n",
    "&nbsp;&nbsp;&nbsp; if_body   \n",
    "&nbsp; }\\\n",
    "&nbsp; else {\\\n",
    "&nbsp;&nbsp;&nbsp; else_body\\\n",
    "&nbsp; }"
   ]
  },
  {
   "cell_type": "code",
   "execution_count": 9,
   "id": "d4d9ad85-bf03-44ca-a9b7-b72268aa01d4",
   "metadata": {
    "tags": []
   },
   "outputs": [
    {
     "name": "stdout",
     "output_type": "stream",
     "text": [
      "10 is not lower than 10\n"
     ]
    }
   ],
   "source": [
    "val program = \"\"\"\n",
    "x = 10;\n",
    "\n",
    "if(x < 10) {\n",
    "    print(x ++ \" is lower than 10\");\n",
    "}\n",
    "else {\n",
    "    print(x ++ \" is not lower than 10\");\n",
    "}\n",
    "\"\"\"\n",
    "\n",
    "execute(program)"
   ]
  },
  {
   "cell_type": "markdown",
   "id": "e2e8b35c-8a09-4948-8311-39f7d924cd08",
   "metadata": {},
   "source": [
    "## For Loops\n",
    "\n",
    "Will loop the body of code given a specified amount of time based on the range given.\n",
    "The current itteration of the code will be stored within an integer variable and can be accessed within the body of code.\\\n",
    "To create a for loop you will need to declare a (1) **Itteration Name**, (2) **Loop Start Number**, (3) **Loop End Number**, (4) **Body of Code**\n",
    "\n",
    "&nbsp; for(*Itteration_Name* in *Loop_Start_Number*..*Loop_End_Number*){\\\n",
    "&nbsp;&nbsp;&nbsp; **Body_Of_Code**\\\n",
    "&nbsp; }"
   ]
  },
  {
   "cell_type": "code",
   "execution_count": 14,
   "id": "01988fa5-9341-4eeb-8321-3720257af394",
   "metadata": {
    "tags": []
   },
   "outputs": [
    {
     "name": "stdout",
     "output_type": "stream",
     "text": [
      "[5, 5, 5, 5, 5]\n",
      "[0, 1, 2, 3, 4, 5, 5, 5, 5, 5]\n"
     ]
    }
   ],
   "source": [
    "val program = \"\"\"\n",
    "x = [1, 2, 3, 4, 5];\n",
    "y = 0;\n",
    "for(i in 0..4){\n",
    "    x[i] = 5;\n",
    "}\n",
    "\n",
    "print(x);\n",
    "\n",
    "for(i in 0..4){\n",
    "    x.add(i, i);\n",
    "}\n",
    "\n",
    "print(x);\n",
    "\"\"\"\n",
    "\n",
    "execute(program)"
   ]
  },
  {
   "cell_type": "markdown",
   "id": "0ae87228-0fe1-43e2-a207-3d8453e65280",
   "metadata": {},
   "source": [
    "## Functions\n",
    "\n",
    "Functions can have asy many parameters as needed, but they must stay consistant between function decleration and invocation. When we enter a function the runtime will be copied and enter its own subscope. Functions in this programming language do not specifiy a return value, the final value of the function will be treated as a return value\n",
    "\n",
    "<strong>Function Decleration:</strong>\\\n",
    "&nbsp; function *function_name*(parameters){\\\n",
    "&nbsp;&nbsp;   function_body\\\n",
    "&nbsp;}\n",
    "\n",
    "Note that the final expression in the function_body is treated as a return value\n",
    "\n",
    "<strong>**Function Invocation:**</strong>\\\n",
    "&nbsp; *function_name*(parameters)"
   ]
  },
  {
   "cell_type": "code",
   "execution_count": 11,
   "id": "2be29d50-4b5b-4fb6-8395-fcf1224772b4",
   "metadata": {
    "tags": []
   },
   "outputs": [
    {
     "name": "stdout",
     "output_type": "stream",
     "text": [
      "80\n"
     ]
    }
   ],
   "source": [
    "val program = \"\"\"\n",
    "function double_n_times(x, n) {\n",
    "  if(n == 0) {\n",
    "    x;\n",
    "  } else {\n",
    "    double_n_times(2 * x, n - 1);\n",
    "  }\n",
    "}\n",
    "\n",
    "print(double_n_times(10, 3));\n",
    "\"\"\"\n",
    "\n",
    "execute(program)"
   ]
  },
  {
   "cell_type": "markdown",
   "id": "04e193b1-4b6b-4cdc-8047-840e18872838",
   "metadata": {
    "tags": []
   },
   "source": [
    "#### Aggeregate Function\n",
    "\n",
    "**Map**: Given a list and a function (with parameters if needed) apply the function to each of the values in the list. The return type of the function must match the type of the list given.\n",
    "\n",
    "&nbsp; *array_name*.map(*function_name*(*parameters*))\n",
    "\n",
    "**Note**: that the items in the list will automatically be applied as the last parameter inside of the function"
   ]
  },
  {
   "cell_type": "code",
   "execution_count": 12,
   "id": "b2ebbdd3-b472-4a43-9b64-4cfeaee29096",
   "metadata": {
    "tags": []
   },
   "outputs": [
    {
     "name": "stdout",
     "output_type": "stream",
     "text": [
      "[11, 41, 7, 5, 201]\n",
      "[Hello Bob., Hello Tim., Hello Ted., Hello Larry.]\n",
      "15\n"
     ]
    }
   ],
   "source": [
    "val program = \"\"\"\n",
    "function double_than_add_x(x, y) {\n",
    "  x + (y * 2);\n",
    "}\n",
    "\n",
    "x = [5, 20, 3, 2, 100];\n",
    "x = x.map(double_than_add_x(1));\n",
    "print(x);\n",
    "\n",
    "function greet(x){\n",
    "    \"Hello \" ++ x ++ \".\"; \n",
    "}\n",
    "\n",
    "y = [\"Bob\", \"Tim\", \"Ted\", \"Larry\"];\n",
    "y = y.map(greet());\n",
    "print(y);\n",
    "\n",
    "function half(x) {\n",
    "  x / 2;\n",
    "}\n",
    "\n",
    "z = [2, 4, 6, 8, 10];\n",
    "z = sum(z.map(half()));\n",
    "print(z);\n",
    "\"\"\"\n",
    "\n",
    "execute(program)"
   ]
  }
 ],
 "metadata": {
  "kernelspec": {
   "display_name": "Kotlin",
   "language": "kotlin",
   "name": "kotlin"
  },
  "language_info": {
   "codemirror_mode": "text/x-kotlin",
   "file_extension": ".kt",
   "mimetype": "text/x-kotlin",
   "name": "kotlin",
   "nbconvert_exporter": "",
   "pygments_lexer": "kotlin",
   "version": "1.8.0-dev-707"
  }
 },
 "nbformat": 4,
 "nbformat_minor": 5
}
