{
 "cells": [
  {
   "cell_type": "markdown",
   "id": "f6b64fe4-9418-4f5c-89d7-fdc97119015d",
   "metadata": {},
   "source": [
    "# Data"
   ]
  },
  {
   "cell_type": "code",
   "execution_count": 1,
   "id": "218e60dc-8217-4b70-955b-a66f85b36ad0",
   "metadata": {
    "tags": []
   },
   "outputs": [],
   "source": [
    "abstract class Data"
   ]
  },
  {
   "cell_type": "code",
   "execution_count": 2,
   "id": "d6892242-ed6c-475a-8541-a58147775d3e",
   "metadata": {
    "tags": []
   },
   "outputs": [
    {
     "data": {
      "text/plain": [
       "Int:42"
      ]
     },
     "execution_count": 2,
     "metadata": {},
     "output_type": "execute_result"
    }
   ],
   "source": [
    "class IntData(val v:Int) : Data() {\n",
    "    override fun toString() = \"Int:$v\"\n",
    "}\n",
    "IntData(42)"
   ]
  },
  {
   "cell_type": "code",
   "execution_count": 3,
   "id": "5c5d9777-1aa7-4731-8d3b-fcc7a0c77846",
   "metadata": {
    "tags": []
   },
   "outputs": [
    {
     "data": {
      "text/plain": [
       "String:\"hello\""
      ]
     },
     "execution_count": 3,
     "metadata": {},
     "output_type": "execute_result"
    }
   ],
   "source": [
    "class StringData(val v:String): Data() {\n",
    "    override fun toString() = \"String:\\\"$v\\\"\"\n",
    "}\n",
    "StringData(\"hello\")"
   ]
  },
  {
   "cell_type": "code",
   "execution_count": 4,
   "id": "c8545bea-b565-457d-879c-e9a1ff414ecf",
   "metadata": {
    "tags": []
   },
   "outputs": [
    {
     "data": {
      "text/plain": [
       "None"
      ]
     },
     "execution_count": 4,
     "metadata": {},
     "output_type": "execute_result"
    }
   ],
   "source": [
    "object None: Data() {\n",
    "    override fun toString() = \"None\"\n",
    "}\n",
    "\n",
    "None"
   ]
  },
  {
   "cell_type": "code",
   "execution_count": 5,
   "id": "25635cd0-9a7b-4d47-a949-fbcec09f0121",
   "metadata": {
    "tags": []
   },
   "outputs": [
    {
     "data": {
      "text/plain": [
       "Boolean:true"
      ]
     },
     "execution_count": 5,
     "metadata": {},
     "output_type": "execute_result"
    }
   ],
   "source": [
    "class BooleanData(val v:Boolean): Data() {\n",
    "    override fun toString() = \"Boolean:$v\"\n",
    "}\n",
    "\n",
    "BooleanData(true)"
   ]
  },
  {
   "cell_type": "markdown",
   "id": "496a53e7-7cdb-48c0-a7af-9c9c119116fa",
   "metadata": {},
   "source": [
    "# Runtime"
   ]
  },
  {
   "cell_type": "code",
   "execution_count": 6,
   "id": "a97fcf79-89b6-4d94-82c0-b6093520e68c",
   "metadata": {
    "tags": []
   },
   "outputs": [],
   "source": [
    "class Runtime() {\n",
    "    val symbols:MutableMap<String, Data> = mutableMapOf()\n",
    "    override fun toString():String {\n",
    "        return symbols.map {\n",
    "            entry -> \"${entry.key}=${entry.value}\"\n",
    "        }.joinToString(\"; \")\n",
    "    }\n",
    "    \n",
    "    fun copy(additionalBindings:Map<String, Data>):Runtime {\n",
    "        val newRuntime = Runtime()\n",
    "        newRuntime.symbols.putAll(this.symbols)\n",
    "        newRuntime.symbols.putAll(additionalBindings)\n",
    "        return newRuntime\n",
    "    }\n",
    "}"
   ]
  },
  {
   "cell_type": "code",
   "execution_count": 7,
   "id": "225e9df4-d728-4f32-b96b-069bcd9319d7",
   "metadata": {
    "tags": []
   },
   "outputs": [
    {
     "name": "stdout",
     "output_type": "stream",
     "text": [
      "x=Int:42; y=String:\"hello world\"\n",
      "x=Int:24; y=String:\"hello world\"; blah=String:\"Blah blah\"\n"
     ]
    }
   ],
   "source": [
    "val runtime = Runtime()\n",
    "runtime.symbols.let {\n",
    "    it.put(\"x\", IntData(42))\n",
    "    it.put(\"y\", StringData(\"hello world\"))\n",
    "}\n",
    "println(runtime)\n",
    "println(runtime.copy(mapOf(\n",
    "    \"x\" to IntData(24),\n",
    "    \"blah\" to StringData(\"Blah blah\"),\n",
    ")))"
   ]
  },
  {
   "cell_type": "markdown",
   "id": "65b50982-e1e3-466d-bedd-7d7967377fd3",
   "metadata": {},
   "source": [
    "# Expressions"
   ]
  },
  {
   "cell_type": "code",
   "execution_count": 8,
   "id": "7deb6a80-98ee-4f21-a85a-c26e803814e3",
   "metadata": {
    "tags": []
   },
   "outputs": [],
   "source": [
    "abstract class Expr {\n",
    "    abstract fun eval(runtime:Runtime):Data\n",
    "}"
   ]
  },
  {
   "cell_type": "markdown",
   "id": "83b50794-ba38-4351-9dc5-019870f27cca",
   "metadata": {},
   "source": [
    "## Literals"
   ]
  },
  {
   "cell_type": "code",
   "execution_count": 9,
   "id": "03692aad-094e-4b4d-a784-8ea941b929b7",
   "metadata": {
    "tags": []
   },
   "outputs": [],
   "source": [
    "class IntLiteral(val lexeme:String):Expr() {\n",
    "    override fun eval(runtime:Runtime):Data \n",
    "    = IntData(Integer.parseInt(lexeme))\n",
    "}"
   ]
  },
  {
   "cell_type": "code",
   "execution_count": 10,
   "id": "088cdbd7-9310-4411-a917-673178505738",
   "metadata": {
    "tags": []
   },
   "outputs": [
    {
     "data": {
      "text/plain": [
       "Int:42"
      ]
     },
     "execution_count": 10,
     "metadata": {},
     "output_type": "execute_result"
    }
   ],
   "source": [
    "IntLiteral(\"42\").eval(Runtime())"
   ]
  },
  {
   "cell_type": "code",
   "execution_count": 11,
   "id": "d45547d7-75f9-4a67-91a7-13b63aa9e54d",
   "metadata": {
    "tags": []
   },
   "outputs": [],
   "source": [
    "class BooleanLiteral(val lexeme:String):Expr() {\n",
    "    override fun eval(runtime:Runtime): Data = \n",
    "    BooleanData(lexeme.equals(\"true\"))\n",
    "}"
   ]
  },
  {
   "cell_type": "code",
   "execution_count": 12,
   "id": "3dc6304e-3e9c-4944-b5f3-731b75984848",
   "metadata": {
    "tags": []
   },
   "outputs": [
    {
     "data": {
      "text/plain": [
       "Boolean:true"
      ]
     },
     "execution_count": 12,
     "metadata": {},
     "output_type": "execute_result"
    }
   ],
   "source": [
    "BooleanLiteral(\"true\").eval(Runtime())"
   ]
  },
  {
   "cell_type": "code",
   "execution_count": 13,
   "id": "7667b7ec-0294-4c79-bae0-053f6b962e74",
   "metadata": {
    "tags": []
   },
   "outputs": [],
   "source": [
    "class StringLiteral(val lexeme:String):Expr() {\n",
    "    override fun eval(runtime:Runtime): Data =\n",
    "    StringData(lexeme)\n",
    "}"
   ]
  },
  {
   "cell_type": "markdown",
   "id": "d7509103-6fe8-4bbf-939a-c94197d05684",
   "metadata": {},
   "source": [
    "_more to come..._"
   ]
  },
  {
   "cell_type": "markdown",
   "id": "172990d0-fc63-4726-b238-e84ffa7d5e0a",
   "metadata": {},
   "source": [
    "## Arithmetics"
   ]
  },
  {
   "cell_type": "code",
   "execution_count": 14,
   "id": "0c0f8bf4-a0b6-463f-a554-e006fb6e31d5",
   "metadata": {
    "tags": []
   },
   "outputs": [],
   "source": [
    "enum class Operator {\n",
    "    ADD,\n",
    "    SUB,\n",
    "    MUL,\n",
    "    DIV\n",
    "}"
   ]
  },
  {
   "cell_type": "code",
   "execution_count": 15,
   "id": "a54cd0f9-0ef7-4c61-80d5-5a4970409138",
   "metadata": {
    "tags": []
   },
   "outputs": [],
   "source": [
    "class Arith(\n",
    "    val op:Operator,\n",
    "    val left:Expr,\n",
    "    val right:Expr,\n",
    ") : Expr() {\n",
    "    override fun eval(runtime:Runtime):Data {\n",
    "        val x = left.eval(runtime)\n",
    "        val y = right.eval(runtime)\n",
    "        if(x is IntData && y is IntData) {\n",
    "            return IntData(\n",
    "                when(op) {\n",
    "                    Operator.ADD -> x.v + y.v\n",
    "                    Operator.SUB -> x.v - y.v\n",
    "                    Operator.MUL -> x.v * y.v\n",
    "                    Operator.DIV -> x.v / y.v\n",
    "                }\n",
    "            )\n",
    "        } else {\n",
    "            throw Exception(\"only support int\")\n",
    "        }\n",
    "    }\n",
    "}"
   ]
  },
  {
   "cell_type": "code",
   "execution_count": 16,
   "id": "e51cd8c0-33da-4be4-942b-b0808257ab65",
   "metadata": {
    "tags": []
   },
   "outputs": [
    {
     "data": {
      "text/plain": [
       "Int:126"
      ]
     },
     "execution_count": 16,
     "metadata": {},
     "output_type": "execute_result"
    }
   ],
   "source": [
    "Arith(\n",
    "    Operator.MUL,\n",
    "    IntLiteral(\"42\"),\n",
    "    Arith(Operator.ADD, IntLiteral(\"1\"), IntLiteral(\"2\")),\n",
    ")\n",
    ".eval(Runtime())"
   ]
  },
  {
   "cell_type": "markdown",
   "id": "5a7a4f94-f7f9-4c09-bb49-fa93808c0253",
   "metadata": {},
   "source": [
    "## Handling variables"
   ]
  },
  {
   "cell_type": "code",
   "execution_count": 17,
   "id": "f6f97190-19bc-4f59-be72-4d6bacf8ffd8",
   "metadata": {
    "tags": []
   },
   "outputs": [],
   "source": [
    "class Assign(\n",
    "    val name: String,\n",
    "    val expr: Expr\n",
    "): Expr() {\n",
    "    override fun eval(runtime:Runtime):Data {\n",
    "        val v:Data = expr.eval(runtime)\n",
    "        runtime.symbols.put(name, v)\n",
    "        return None\n",
    "    }\n",
    "}"
   ]
  },
  {
   "cell_type": "code",
   "execution_count": 18,
   "id": "0809b2d9-cf7f-432e-9081-29e644c23836",
   "metadata": {
    "tags": []
   },
   "outputs": [
    {
     "name": "stdout",
     "output_type": "stream",
     "text": [
      "\n",
      "---\n",
      "x=Int:42\n"
     ]
    }
   ],
   "source": [
    "val r = Runtime()\n",
    "println(r)\n",
    "println(\"---\")\n",
    "Assign(\"x\", IntLiteral(\"42\")).eval(r)\n",
    "println(r)"
   ]
  },
  {
   "cell_type": "code",
   "execution_count": 19,
   "id": "556d7dc3-7a8e-40af-97a0-f30de6577ca3",
   "metadata": {
    "tags": []
   },
   "outputs": [],
   "source": [
    "class Deref(\n",
    "    val name:String\n",
    "): Expr() {\n",
    "    override fun eval(runtime:Runtime):Data {\n",
    "        val v = runtime.symbols[name]\n",
    "        if(v != null) {\n",
    "            return v\n",
    "        } else {\n",
    "            return None\n",
    "        }\n",
    "    }\n",
    "}"
   ]
  },
  {
   "cell_type": "code",
   "execution_count": 20,
   "id": "13a7919c-cbcd-42bd-b0d0-1eadfc391bf6",
   "metadata": {
    "tags": []
   },
   "outputs": [
    {
     "data": {
      "text/plain": [
       "None"
      ]
     },
     "execution_count": 20,
     "metadata": {},
     "output_type": "execute_result"
    }
   ],
   "source": [
    "Deref(\"x\").eval(Runtime())"
   ]
  },
  {
   "cell_type": "code",
   "execution_count": 21,
   "id": "fdc62a49-9d83-4a52-86b6-c414f273c5dc",
   "metadata": {
    "tags": []
   },
   "outputs": [
    {
     "data": {
      "text/plain": [
       "Int:5292"
      ]
     },
     "execution_count": 21,
     "metadata": {},
     "output_type": "execute_result"
    }
   ],
   "source": [
    "Assign(\"pi\", IntLiteral(\"3\")).eval(r)\n",
    "Assign(\"radius\", IntLiteral(\"42\")).eval(r)\n",
    "Arith(\n",
    "    Operator.MUL,\n",
    "    Deref(\"pi\"),\n",
    "    Arith(\n",
    "        Operator.MUL,\n",
    "        Deref(\"radius\"),\n",
    "        Deref(\"radius\")\n",
    "    )\n",
    ").eval(r)"
   ]
  },
  {
   "cell_type": "markdown",
   "id": "23cfd2ee-b8e1-42b5-93e8-f6e26e73ea83",
   "metadata": {},
   "source": [
    "# Blocks"
   ]
  },
  {
   "cell_type": "code",
   "execution_count": 22,
   "id": "3315c8fb-a96a-42e7-9e87-a47dffaba087",
   "metadata": {
    "tags": []
   },
   "outputs": [],
   "source": [
    "class Block(val exprs:List<Expr>):Expr() {\n",
    "    override fun eval(runtime:Runtime):Data\n",
    "    = exprs.map { it.eval(runtime) }.last()\n",
    "}"
   ]
  },
  {
   "cell_type": "code",
   "execution_count": 23,
   "id": "fd44753b-a6a3-4f7c-b087-0ee233cff3ca",
   "metadata": {
    "tags": []
   },
   "outputs": [
    {
     "data": {
      "text/plain": [
       "Int:42"
      ]
     },
     "execution_count": 23,
     "metadata": {},
     "output_type": "execute_result"
    }
   ],
   "source": [
    "Block(\n",
    "    listOf(\n",
    "        IntLiteral(\"1\"),\n",
    "        IntLiteral(\"2\"),\n",
    "        IntLiteral(\"3\"),\n",
    "        Deref(\"radius\"),\n",
    "    )\n",
    ").eval(r)"
   ]
  },
  {
   "cell_type": "markdown",
   "id": "2472c47f-d073-464f-9085-9574d976193a",
   "metadata": {
    "tags": []
   },
   "source": [
    "# Comparisons of integers"
   ]
  },
  {
   "cell_type": "code",
   "execution_count": 24,
   "id": "de3e46da-05e8-4aa3-9b15-1056a20b1cba",
   "metadata": {
    "tags": []
   },
   "outputs": [],
   "source": [
    "enum class CmpOperators {\n",
    "    LT,\n",
    "    GT,\n",
    "    EQ,\n",
    "}"
   ]
  },
  {
   "cell_type": "code",
   "execution_count": 25,
   "id": "8c44e425-a6e3-47a4-8c98-b5ce2f24f35d",
   "metadata": {
    "tags": []
   },
   "outputs": [],
   "source": [
    "class Cmp(\n",
    "    val op:CmpOperators,\n",
    "    val left:Expr,\n",
    "    val right:Expr\n",
    ") : Expr() {\n",
    "    override fun eval(runtime:Runtime): Data {\n",
    "        val x:Data = left.eval(runtime)\n",
    "        val y:Data = right.eval(runtime)\n",
    "        if(x is IntData && y is IntData) {\n",
    "            val result = when(op) {\n",
    "                CmpOperators.LT -> x.v < y.v\n",
    "                CmpOperators.GT -> x.v > y.v\n",
    "                CmpOperators.EQ -> x.v == y.v\n",
    "            }\n",
    "            return BooleanData(result)\n",
    "        } else {\n",
    "            throw Exception(\"Cannot perform comparison\")\n",
    "        }\n",
    "    }\n",
    "}"
   ]
  },
  {
   "cell_type": "code",
   "execution_count": 26,
   "id": "c265d922-070c-4a92-acea-be197356b011",
   "metadata": {
    "tags": []
   },
   "outputs": [
    {
     "data": {
      "text/plain": [
       "Boolean:true"
      ]
     },
     "execution_count": 26,
     "metadata": {},
     "output_type": "execute_result"
    }
   ],
   "source": [
    "Cmp(CmpOperators.LT, IntLiteral(\"3\"), IntLiteral(\"4\"))\n",
    ".eval(r)"
   ]
  },
  {
   "cell_type": "markdown",
   "id": "bbf6b1e2-916b-43e4-be89-935265a14667",
   "metadata": {},
   "source": [
    "# Branching using if-else"
   ]
  },
  {
   "cell_type": "code",
   "execution_count": 27,
   "id": "cf0427a8-8bc4-4abb-baf4-982c37c377ba",
   "metadata": {
    "tags": []
   },
   "outputs": [],
   "source": [
    "class Ifelse(\n",
    "    val cond: Expr,\n",
    "    val trueExpr: Expr,\n",
    "    val falseExpr: Expr,\n",
    ") : Expr() {\n",
    "    override fun eval(runtime:Runtime): Data {\n",
    "        val result = cond.eval(runtime) as BooleanData\n",
    "        return if(result.v) {\n",
    "            trueExpr.eval(runtime)\n",
    "        } else {\n",
    "            falseExpr.eval(runtime)\n",
    "        }\n",
    "    }\n",
    "}"
   ]
  },
  {
   "cell_type": "code",
   "execution_count": 28,
   "id": "602acceb-577f-4bd0-bb67-9151727f3acd",
   "metadata": {
    "tags": []
   },
   "outputs": [
    {
     "data": {
      "text/plain": [
       "String:\"x < pi not true.\""
      ]
     },
     "execution_count": 28,
     "metadata": {},
     "output_type": "execute_result"
    }
   ],
   "source": [
    "Ifelse(\n",
    "    Cmp(CmpOperators.LT, Deref(\"x\"), Deref(\"pi\")),\n",
    "    StringLiteral(\"x < pi is true.\"),\n",
    "    StringLiteral(\"x < pi not true.\"),\n",
    ")\n",
    ".eval(r)"
   ]
  },
  {
   "cell_type": "markdown",
   "id": "42d8c8f5-5838-47b9-9198-0057cc866ca2",
   "metadata": {},
   "source": [
    "# Console output"
   ]
  },
  {
   "cell_type": "code",
   "execution_count": 29,
   "id": "4463bb7a-7dde-4f46-b9db-6633e9cc952a",
   "metadata": {
    "tags": []
   },
   "outputs": [],
   "source": [
    "class Output(\n",
    "    val exprs: List<Expr>\n",
    "): Expr() {\n",
    "    override fun eval(runtime:Runtime): Data {\n",
    "        exprs.forEach {\n",
    "            val data = it.eval(runtime)\n",
    "            println(data)\n",
    "        }\n",
    "        return None\n",
    "    }\n",
    "}"
   ]
  },
  {
   "cell_type": "markdown",
   "id": "1a4295bb-5bdc-4bb1-a17a-e7e70543fc05",
   "metadata": {
    "tags": []
   },
   "source": [
    "# While loop"
   ]
  },
  {
   "cell_type": "code",
   "execution_count": 30,
   "id": "f39faa43-f520-4f86-b0b2-b5c03770cfde",
   "metadata": {
    "tags": []
   },
   "outputs": [],
   "source": [
    "class While(\n",
    "    val cond: Expr,\n",
    "    val body: Expr,\n",
    "): Expr() {\n",
    "    override fun eval(runtime:Runtime): Data {\n",
    "        var flag = cond.eval(runtime) as BooleanData\n",
    "        while(flag.v) {\n",
    "            body.eval(runtime)\n",
    "            flag = cond.eval(runtime) as BooleanData\n",
    "        }\n",
    "        return None\n",
    "    }\n",
    "}"
   ]
  },
  {
   "cell_type": "code",
   "execution_count": 31,
   "id": "5792608c-05dc-424d-a4ad-dbd374a328da",
   "metadata": {
    "tags": []
   },
   "outputs": [
    {
     "name": "stdout",
     "output_type": "stream",
     "text": [
      "Int:0\n",
      "Int:1\n",
      "Int:2\n",
      "Int:3\n"
     ]
    },
    {
     "data": {
      "text/plain": [
       "None"
      ]
     },
     "execution_count": 31,
     "metadata": {},
     "output_type": "execute_result"
    }
   ],
   "source": [
    "// i = 0\n",
    "// while(i < 4) {\n",
    "//    print(i)\n",
    "//    i = i + 1\n",
    "// }\n",
    "\n",
    "Block(\n",
    "    listOf(\n",
    "        Assign(\"i\", IntLiteral(\"0\")),\n",
    "        While(\n",
    "            Cmp(CmpOperators.LT, Deref(\"i\"), IntLiteral(\"4\")),\n",
    "            Block(\n",
    "                listOf(\n",
    "                    Output(listOf(Deref(\"i\"))),\n",
    "                    Assign(\"i\", Arith(Operator.ADD, Deref(\"i\"), IntLiteral(\"1\"))),\n",
    "                )\n",
    "            )\n",
    "        )\n",
    "    )\n",
    ")\n",
    ".eval(Runtime())"
   ]
  },
  {
   "cell_type": "markdown",
   "id": "7e419119-45a5-4252-901f-ca91e1788c9d",
   "metadata": {},
   "source": [
    "# Function Declaration"
   ]
  },
  {
   "cell_type": "code",
   "execution_count": 32,
   "id": "a661dd1c-88f7-408c-af3c-892bd3c5840e",
   "metadata": {
    "tags": []
   },
   "outputs": [],
   "source": [
    "class FuncData(\n",
    "    val name: String,\n",
    "    val parameters: List<String>,\n",
    "    val body: Expr,\n",
    ") : Data() {\n",
    "    override fun toString()\n",
    "    = parameters.joinToString(\", \").let {\n",
    "        \"$name($it)\"\n",
    "    }\n",
    "}"
   ]
  },
  {
   "cell_type": "code",
   "execution_count": 33,
   "id": "f06cba4a-125e-43e0-ba96-8cd5d4735b83",
   "metadata": {
    "tags": []
   },
   "outputs": [
    {
     "data": {
      "text/plain": [
       "add(x, y)"
      ]
     },
     "execution_count": 33,
     "metadata": {},
     "output_type": "execute_result"
    }
   ],
   "source": [
    "FuncData(\n",
    "    \"add\",\n",
    "    listOf(\"x\", \"y\"),\n",
    "    Arith(Operator.ADD,\n",
    "          Deref(\"x\"),\n",
    "          Deref(\"y\")))"
   ]
  },
  {
   "cell_type": "code",
   "execution_count": 34,
   "id": "68f2e3bd-236d-44bc-ba1e-e0eb7e4fbe30",
   "metadata": {
    "tags": []
   },
   "outputs": [],
   "source": [
    "class Declare(\n",
    "    val name: String,\n",
    "    val parameters: List<String>,\n",
    "    val body: Expr,\n",
    ") : Expr() {\n",
    "    override fun eval(runtime:Runtime):Data {\n",
    "        val funcdata = FuncData(name, parameters, body)\n",
    "        runtime.symbols[name] = funcdata\n",
    "        return None\n",
    "    }\n",
    "}"
   ]
  },
  {
   "cell_type": "code",
   "execution_count": 35,
   "id": "b284ad42-f3a7-4fd4-b1a4-7c6382e09775",
   "metadata": {
    "tags": []
   },
   "outputs": [
    {
     "data": {
      "text/plain": [
       "add=add(x, y)"
      ]
     },
     "execution_count": 35,
     "metadata": {},
     "output_type": "execute_result"
    }
   ],
   "source": [
    "val r = Runtime()\n",
    "Declare(\n",
    "    \"add\",\n",
    "    listOf(\"x\", \"y\"),\n",
    "    Arith(Operator.ADD,\n",
    "          Deref(\"x\"),\n",
    "          Deref(\"y\")))\n",
    ".eval(r)\n",
    "\n",
    "r"
   ]
  },
  {
   "cell_type": "code",
   "execution_count": 39,
   "id": "20524c78-85b2-4c39-b03f-f0d942b8a785",
   "metadata": {
    "tags": []
   },
   "outputs": [],
   "source": [
    "class Invoke(\n",
    "    val funcname: String,\n",
    "    val arguments: List<Expr>,\n",
    ") : Expr() {\n",
    "    override fun eval(runtime:Runtime): Data {\n",
    "        val f = runtime.symbols[funcname]\n",
    "        if(f == null) {\n",
    "            throw Exception(\"$funcname does not exist.\")\n",
    "        }\n",
    "        if(f !is FuncData) {\n",
    "            throw Exception(\"$funcname is not a function.\")\n",
    "        }\n",
    "        if(arguments.size != f.parameters.size) {\n",
    "            throw Exception(\"$funcname expects ${f.parameters.size} arguments, but ${arguments.size} given.\")\n",
    "        }\n",
    "        \n",
    "        // evaluate each argument to a data\n",
    "        val argumentData = arguments.map {\n",
    "            it.eval(runtime)\n",
    "        }\n",
    "\n",
    "        // create a subscope and evaluate the body using the subscope\n",
    "        return f.body.eval(runtime.copy(\n",
    "            f.parameters.zip(argumentData).toMap()\n",
    "        ))\n",
    "    }\n",
    "}"
   ]
  },
  {
   "cell_type": "markdown",
   "id": "071a278e-42b9-42b1-90a7-49528b43e1b1",
   "metadata": {},
   "source": [
    "```python\n",
    "def add_double(x, y):\n",
    "    z = x + y\n",
    "    return 2 * x\n",
    "\n",
    "i = 100\n",
    "j = 200\n",
    "\n",
    "add_double(i, j)\n",
    "```"
   ]
  },
  {
   "cell_type": "code",
   "execution_count": 40,
   "id": "f62872f4-be65-4e89-986b-8a31f75205eb",
   "metadata": {
    "tags": []
   },
   "outputs": [
    {
     "data": {
      "text/plain": [
       "Int:600"
      ]
     },
     "execution_count": 40,
     "metadata": {},
     "output_type": "execute_result"
    }
   ],
   "source": [
    "Block(\n",
    "    listOf(\n",
    "        Declare(\n",
    "            name = \"add_double\",\n",
    "            parameters = listOf(\"x\", \"y\"),\n",
    "            body = Block(\n",
    "                listOf(\n",
    "                    Assign(\"z\", Arith(Operator.ADD, Deref(\"x\"), Deref(\"y\"))),\n",
    "                    Arith(Operator.MUL, IntLiteral(\"2\"), Deref(\"z\"))\n",
    "                )\n",
    "            )\n",
    "        ),\n",
    "        Assign(\"i\", IntLiteral(\"100\")),\n",
    "        Assign(\"j\", IntLiteral(\"200\")),\n",
    "        Invoke(\n",
    "            funcname = \"add_double\",\n",
    "            arguments = listOf(\n",
    "                Deref(\"i\"),\n",
    "                Deref(\"j\"),\n",
    "            )\n",
    "        )\n",
    "    )\n",
    ")\n",
    ".eval(Runtime())"
   ]
  }
 ],
 "metadata": {
  "kernelspec": {
   "display_name": "Kotlin",
   "language": "kotlin",
   "name": "kotlin"
  },
  "language_info": {
   "codemirror_mode": "text/x-kotlin",
   "file_extension": ".kt",
   "mimetype": "text/x-kotlin",
   "name": "kotlin",
   "nbconvert_exporter": "",
   "pygments_lexer": "kotlin",
   "version": "1.8.0-dev-707"
  }
 },
 "nbformat": 4,
 "nbformat_minor": 5
}
