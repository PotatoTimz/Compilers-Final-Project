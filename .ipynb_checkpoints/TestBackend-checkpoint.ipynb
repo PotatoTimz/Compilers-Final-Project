{
 "cells": [
  {
   "cell_type": "code",
   "execution_count": 1,
   "id": "9924f8b8-c7c7-45f1-bbbf-2fa22a00c2d0",
   "metadata": {
    "tags": []
   },
   "outputs": [],
   "source": [
    "// [THIS IS READ-ONLY]\n",
    "@file:DependsOn(\"/antlr-4.11.1-complete.jar\")\n",
    "@file:DependsOn(\"./target\")"
   ]
  },
  {
   "cell_type": "code",
   "execution_count": 2,
   "id": "997b9043-4e78-41b9-a7fd-08efa1a6cb0d",
   "metadata": {
    "tags": []
   },
   "outputs": [],
   "source": [
    "// [THIS IS READ-ONLY]\n",
    "import org.antlr.v4.runtime.*\n",
    "import backend.*"
   ]
  },
  {
   "cell_type": "code",
   "execution_count": 3,
   "id": "c3bc1b0c-13e7-4a13-8e08-9e5837a39944",
   "metadata": {
    "tags": []
   },
   "outputs": [],
   "source": [
    "class MapListFilter(\n",
    "    val funcname: String,\n",
    "    val name: String,\n",
    "    val arguments: List<Expr>\n",
    ") : Expr() {\n",
    "    override fun eval(runtime:Runtime): Data {\n",
    "        val f = runtime.symbols[funcname]\n",
    "        val v = runtime.symbols[name]\n",
    "        if(f == null) {\n",
    "            throw Exception(\"$funcname does not exist.\")\n",
    "        }\n",
    "        if(f !is FuncData) {\n",
    "            throw Exception(\"$funcname is not a function.\")\n",
    "        }\n",
    "        if(arguments.size != f.parameters.size-1) {\n",
    "            throw Exception(\"$funcname expects ${f.parameters.size-1} arguments, but ${arguments.size} given.\")\n",
    "        }\n",
    "        \n",
    "        if (v is ListIntData){\n",
    "            val list = v.toString().drop(1).dropLast(1).split(\", \").map { it.toInt() }.toMutableList()        \n",
    "            var returned_list = mutableListOf<Int>()\n",
    "            \n",
    "            for (i in 0..(list.size-1)){\n",
    "                var argumentData = arguments.map {\n",
    "                    it.eval(runtime)\n",
    "                }\n",
    "                argumentData = argumentData + IntData(list[i])\n",
    "                val number_return = f.body.eval(runtime.copy(\n",
    "                                f.parameters.zip(argumentData).toMap()\n",
    "                                ))\n",
    "                print(number_return.toString().equals(\"true\"))\n",
    "                if(number_return.toString() == \"true\"){\n",
    "                    returned_list.add(number_return.toString().toInt())\n",
    "                }\n",
    "            }\n",
    "\n",
    "            return ListIntData(returned_list)\n",
    "        }\n",
    "        else if(v is ListStringData){\n",
    "            var list = v.toString().drop(1).dropLast(1).split(\", \").map { it.toString() }.toMutableList()\n",
    "            var returned_list = mutableListOf<String>()\n",
    "            for (i in 0..(list.size-1)){\n",
    "                var argumentData = arguments.map {\n",
    "                    it.eval(runtime)\n",
    "                }\n",
    "                argumentData = argumentData + StringData(list[i])\n",
    "                val string_return = f.body.eval(runtime.copy(\n",
    "                                f.parameters.zip(argumentData).toMap()\n",
    "                                ))\n",
    "                returned_list.add(string_return.toString())\n",
    "            }\n",
    "\n",
    "            return ListStringData(returned_list)            \n",
    "        }\n",
    "        else{\n",
    "            return None\n",
    "        }\n",
    "    }\n",
    "}"
   ]
  },
  {
   "cell_type": "code",
   "execution_count": 45,
   "id": "adb05f8d-69be-4463-a989-fcc18dd2537f",
   "metadata": {
    "tags": []
   },
   "outputs": [],
   "source": [
    "class ListAddAt(\n",
    "    val index: Expr,\n",
    "    val name: String,\n",
    "    val expr: Expr\n",
    "): Expr() {\n",
    "    override fun eval(runtime:Runtime):Data {\n",
    "        val v = runtime.symbols[name]\n",
    "        val i = index.eval(runtime).toString().toInt()\n",
    "        val new_v = expr.eval(runtime)\n",
    "\n",
    "        if(v is ListIntData){\n",
    "            var list = v.toString().drop(1).dropLast(1).split(\", \").map { it.toInt() }.toMutableList()\n",
    "            list.add(i, new_v.toString().toInt())\n",
    "            runtime.symbols.put(name, ListIntData(list))\n",
    "            return None\n",
    "        }\n",
    "        else if(v is ListStringData){\n",
    "            var list = v.toString().drop(1).dropLast(1).split(\", \").map { it.toString() }.toMutableList()\n",
    "            list.add(i, new_v.toString())\n",
    "            runtime.symbols.put(name, ListStringData(list))\n",
    "            return None\n",
    "        }\n",
    "        else{\n",
    "            return None\n",
    "        }\n",
    "        \n",
    "    }\n",
    "}"
   ]
  },
  {
   "cell_type": "code",
   "execution_count": 54,
   "id": "ceaec253-d317-42ba-9bf6-1c84ea6435e1",
   "metadata": {
    "tags": []
   },
   "outputs": [],
   "source": [
    "class ListAddFrontBack(\n",
    "    val front: Boolean,\n",
    "    val name: String,\n",
    "    val expr: Expr\n",
    "): Expr() {\n",
    "    override fun eval(runtime:Runtime):Data {\n",
    "        val v = runtime.symbols[name]\n",
    "        val new_v = expr.eval(runtime)\n",
    "\n",
    "        if(v is ListIntData){\n",
    "            var list = v.toString().drop(1).dropLast(1).split(\", \").map { it.toInt() }.toMutableList()\n",
    "            if(front){\n",
    "                list.add(0, new_v.toString().toInt())\n",
    "            }\n",
    "            else{\n",
    "                list.add(list.size, new_v.toString().toInt())\n",
    "            }\n",
    "            runtime.symbols.put(name, ListIntData(list))\n",
    "            return None\n",
    "        }\n",
    "        else if(v is ListStringData){\n",
    "            var list = v.toString().drop(1).dropLast(1).split(\", \").map { it.toString() }.toMutableList()\n",
    "            if(front){\n",
    "                list.add(0, new_v.toString())\n",
    "            }\n",
    "            else{\n",
    "                list.add(list.size, new_v.toString())\n",
    "            }\n",
    "            runtime.symbols.put(name, ListStringData(list))\n",
    "            return None\n",
    "        }\n",
    "        else{\n",
    "            return None\n",
    "        }\n",
    "        \n",
    "    }\n",
    "}"
   ]
  },
  {
   "cell_type": "code",
   "execution_count": 55,
   "id": "b190dba4-3dac-4261-b868-e775ab398938",
   "metadata": {},
   "outputs": [
    {
     "name": "stdout",
     "output_type": "stream",
     "text": [
      "Test\n",
      "Test\n",
      "Test\n",
      "Test\n",
      "Test\n",
      "[10, 10, 10, 10, 10, 5, 100, 5, 20, 3]\n"
     ]
    },
    {
     "data": {
      "text/plain": [
       "Test"
      ]
     },
     "execution_count": 55,
     "metadata": {},
     "output_type": "execute_result"
    }
   ],
   "source": [
    "Block(\n",
    "    listOf(\n",
    "        Assign(\"x\", ListIntLiteral(listOf(5, 100, 5, 20, 3))),\n",
    "        Assign(\"sum\", IntLiteral(\"10\")),\n",
    "        Assign(\"y\", IntLiteral(\"0\")),\n",
    "        ForLoop(\n",
    "            itteration = \"i\",\n",
    "            start = IntLiteral(\"0\"),\n",
    "            end = IntLiteral(\"4\"),\n",
    "            body = Block(\n",
    "                        listOf(\n",
    "                            Output(\n",
    "                                listOf(\n",
    "                                    ListAddFrontBack(\n",
    "                                        true,\n",
    "                                        \"x\",\n",
    "                                        Deref(\"sum\"),\n",
    "                                    )\n",
    "                                )\n",
    "                            )\n",
    "                        )\n",
    "                    )\n",
    "        ),\n",
    "        Output(listOf(Deref(\"x\")))\n",
    "    )\n",
    ")\n",
    ".eval(Runtime())"
   ]
  },
  {
   "cell_type": "code",
   "execution_count": 6,
   "id": "81a54d89-000c-49e3-ac95-6b4c74de4a5b",
   "metadata": {
    "tags": []
   },
   "outputs": [
    {
     "data": {
      "text/plain": [
       "Hello Terry"
      ]
     },
     "execution_count": 6,
     "metadata": {},
     "output_type": "execute_result"
    }
   ],
   "source": [
    "Block(\n",
    "    listOf(\n",
    "        Declare(\n",
    "            name = \"double\",\n",
    "            parameters = listOf(\"y\", \"x\"), \n",
    "            body = Block(\n",
    "                listOf(\n",
    "                    Arith(\n",
    "                        Operator.ADD,\n",
    "                        Deref(\"y\"),\n",
    "                        Arith(\n",
    "                            Operator.MUL,\n",
    "                            IntLiteral(\"2\"),\n",
    "                            Deref(\"x\")\n",
    "                        )\n",
    "                    )\n",
    "                )\n",
    "            )\n",
    "        ),\n",
    "        Declare(\n",
    "            name = \"greeting\",\n",
    "            parameters = listOf(\"x\"), \n",
    "            body = Block(\n",
    "                listOf(\n",
    "                    Arith(\n",
    "                        Operator.ADD,\n",
    "                        StringLiteral(\"Hello \"),\n",
    "                        Deref(\"x\")\n",
    "                    )\n",
    "                )\n",
    "            )\n",
    "        ),\n",
    "        Assign(\"x\", ListIntLiteral(listOf(5, 100, 5, 20, 3))),\n",
    "        Assign(\"y\", ListStringLiteral(listOf(\"Bob\", \"Tim\", \"Terry\"))),\n",
    "        Assign(\"y\",\n",
    "            MapList(\n",
    "                funcname = \"greeting\",\n",
    "                name = \"y\",\n",
    "                arguments = listOf(\n",
    "                )\n",
    "            ),\n",
    "        ),        \n",
    "        DerefList(\"y\", IntLiteral(\"2\")),\n",
    "    )\n",
    ")\n",
    ".eval(Runtime())"
   ]
  },
  {
   "cell_type": "code",
   "execution_count": 7,
   "id": "c1d647c9-c311-41b2-90da-09d1bb572a81",
   "metadata": {
    "tags": []
   },
   "outputs": [
    {
     "name": "stderr",
     "output_type": "stream",
     "text": [
      "Line_6.jupyter-kts (10:25 - 39) Unresolved reference: BooleanLiteral\n",
      "Line_6.jupyter-kts (11:25 - 39) Unresolved reference: BooleanLiteral"
     ]
    }
   ],
   "source": [
    "Block(\n",
    "    listOf(\n",
    "        Declare(\n",
    "            name = \"greater5\",\n",
    "            parameters = listOf(\"x\"), \n",
    "            body = Block(\n",
    "                listOf(\n",
    "                    Ifelse(\n",
    "                        Cmp(CmpOperators.LT, Deref(\"x\"), IntLiteral(\"50\")),\n",
    "                        BooleanLiteral(true),\n",
    "                        BooleanLiteral(false),\n",
    "                    )\n",
    "                )\n",
    "            )\n",
    "        ),\n",
    "\n",
    "        Assign(\"x\", ListIntLiteral(listOf(5, 100, 5, 20, 3))),\n",
    "        Assign(\"x\",\n",
    "            MapListFilter(\n",
    "                funcname = \"greater5\",\n",
    "                name = \"x\",\n",
    "                arguments = listOf(\n",
    "                )\n",
    "            ),\n",
    "        ),\n",
    "    )\n",
    ")\n",
    ".eval(Runtime())"
   ]
  },
  {
   "cell_type": "code",
   "execution_count": 8,
   "id": "cf73ef8a-e660-4410-9d87-73bc9017f3e5",
   "metadata": {
    "tags": []
   },
   "outputs": [],
   "source": [
    "class BooleanLiteral(val lexeme:Boolean):Expr() {\n",
    "    override fun eval(runtime:Runtime):Data \n",
    "    = BooleanData(lexeme)\n",
    "}\n"
   ]
  },
  {
   "cell_type": "code",
   "execution_count": 9,
   "id": "1eb6b018-8642-4a0f-b2a8-8d550bf19b2e",
   "metadata": {
    "tags": []
   },
   "outputs": [
    {
     "data": {
      "text/plain": [
       "600"
      ]
     },
     "execution_count": 9,
     "metadata": {},
     "output_type": "execute_result"
    }
   ],
   "source": [
    "Block(\n",
    "    listOf(\n",
    "        Declare(\n",
    "            name = \"add_double\",\n",
    "            parameters = listOf(\"x\", \"y\"),\n",
    "            body = Block(\n",
    "                listOf(\n",
    "                    Assign(\"z\", Arith(Operator.ADD, Deref(\"x\"), Deref(\"y\"))),\n",
    "                    Arith(Operator.MUL, IntLiteral(\"2\"), Deref(\"z\"))\n",
    "                )\n",
    "            )\n",
    "        ),\n",
    "        Assign(\"i\", IntLiteral(\"100\")),\n",
    "        Assign(\"j\", IntLiteral(\"200\")),\n",
    "        Invoke(\n",
    "            funcname = \"add_double\",\n",
    "            arguments = listOf(\n",
    "                Deref(\"i\"),\n",
    "                Deref(\"j\"),\n",
    "            )\n",
    "        )\n",
    "    )\n",
    ")\n",
    ".eval(Runtime())"
   ]
  },
  {
   "cell_type": "code",
   "execution_count": 10,
   "id": "42f9ce5b-b72d-4059-a3fc-66cd09feed1d",
   "metadata": {
    "tags": []
   },
   "outputs": [
    {
     "name": "stdout",
     "output_type": "stream",
     "text": [
      "[1, 2, 3, 2]\n"
     ]
    }
   ],
   "source": [
    "val k = mutableListOf(1,2,3)\n",
    "k.add(2)\n",
    "println(k)"
   ]
  },
  {
   "cell_type": "code",
   "execution_count": 11,
   "id": "9188eb01-51b1-42d8-bb69-5c98e395c1f7",
   "metadata": {
    "tags": []
   },
   "outputs": [
    {
     "name": "stderr",
     "output_type": "stream",
     "text": [
      "Line_10.jupyter-kts (8:32 - 33) The integer literal does not conform to the expected type Expr\n",
      "Line_10.jupyter-kts (9:25 - 28) Type mismatch: inferred type is String but Expr was expected\n",
      "Line_10.jupyter-kts (10:25 - 28) Type mismatch: inferred type is String but Expr was expected\n",
      "Line_10.jupyter-kts (11:25 - 28) Type mismatch: inferred type is String but Expr was expected\n",
      "Line_10.jupyter-kts (12:29 - 32) Type mismatch: inferred type is String but Expr was expected\n",
      "Line_10.jupyter-kts (14:27 - 30) Type mismatch: inferred type is String but Expr was expected\n",
      "Line_10.jupyter-kts (26:22 - 23) The integer literal does not conform to the expected type Expr\n",
      "Line_10.jupyter-kts (27:22 - 23) The integer literal does not conform to the expected type Expr"
     ]
    }
   ],
   "source": [
    "Block(\n",
    "    listOf(\n",
    "        Assign(\"x\", ListIntLiteral(listOf(1,2,3,4,5))),\n",
    "        Assign(\"y\", ListStringLiteral(listOf(\"Hello \", \"World \", \"Tester \"))),\n",
    "        Output(\n",
    "            listOf(\n",
    "                Deref(\"x\"),\n",
    "                DerefList(\"y\", 0),\n",
    "                MaxList(\"x\"),\n",
    "                MinList(\"x\"),\n",
    "                SumList(\"x\"),\n",
    "                AverageList(\"x\"),\n",
    "                \n",
    "                CountList(\"y\")\n",
    "            )\n",
    "        ),\n",
    "        ListAddAt(1, \"x\", IntLiteral(\"100\")),\n",
    "        ListAddFrontBack(true, \"y\", StringLiteral(\"inserted to front \")),\n",
    "        ListAddFrontBack(false, \"y\", StringLiteral(\"inserted to back \")),\n",
    "        Output(\n",
    "            listOf(\n",
    "                Deref(\"x\"),\n",
    "                Deref(\"y\")\n",
    "            )\n",
    "        ),\n",
    "        ReassignList(1, \"x\", IntLiteral(\"1000\")),\n",
    "        ReassignList(0, \"x\", IntLiteral(\"1000\")),\n",
    "        Output(\n",
    "            listOf(\n",
    "                Deref(\"x\"),\n",
    "            )\n",
    "        )\n",
    "    )\n",
    ").eval(Runtime())"
   ]
  },
  {
   "cell_type": "code",
   "execution_count": 12,
   "id": "aeaaf038-4d66-49db-83e4-2deac4ad5c9a",
   "metadata": {
    "tags": []
   },
   "outputs": [
    {
     "data": {
      "text/plain": [
       "2"
      ]
     },
     "execution_count": 12,
     "metadata": {},
     "output_type": "execute_result"
    }
   ],
   "source": [
    "listOf(\"123\",\"test\").size"
   ]
  },
  {
   "cell_type": "code",
   "execution_count": null,
   "id": "fd2934e5-835e-45e5-87b2-454f727e55f5",
   "metadata": {},
   "outputs": [],
   "source": []
  }
 ],
 "metadata": {
  "kernelspec": {
   "display_name": "Kotlin",
   "language": "kotlin",
   "name": "kotlin"
  },
  "language_info": {
   "codemirror_mode": "text/x-kotlin",
   "file_extension": ".kt",
   "mimetype": "text/x-kotlin",
   "name": "kotlin",
   "nbconvert_exporter": "",
   "pygments_lexer": "kotlin",
   "version": "1.8.0-dev-707"
  }
 },
 "nbformat": 4,
 "nbformat_minor": 5
}
