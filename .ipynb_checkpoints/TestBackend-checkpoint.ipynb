{
 "cells": [
  {
   "cell_type": "code",
   "execution_count": 1,
   "id": "9924f8b8-c7c7-45f1-bbbf-2fa22a00c2d0",
   "metadata": {
    "tags": []
   },
   "outputs": [],
   "source": [
    "// [THIS IS READ-ONLY]\n",
    "@file:DependsOn(\"/antlr-4.11.1-complete.jar\")\n",
    "@file:DependsOn(\"./target\")"
   ]
  },
  {
   "cell_type": "code",
   "execution_count": 2,
   "id": "997b9043-4e78-41b9-a7fd-08efa1a6cb0d",
   "metadata": {
    "tags": []
   },
   "outputs": [],
   "source": [
    "// [THIS IS READ-ONLY]\n",
    "import org.antlr.v4.runtime.*\n",
    "import backend.*"
   ]
  },
  {
   "cell_type": "code",
   "execution_count": 24,
   "id": "c3bc1b0c-13e7-4a13-8e08-9e5837a39944",
   "metadata": {
    "tags": []
   },
   "outputs": [],
   "source": [
    "class MapListFilter(\n",
    "    val funcname: String,\n",
    "    val name: String,\n",
    "    val arguments: List<Expr>\n",
    ") : Expr() {\n",
    "    override fun eval(runtime:Runtime): Data {\n",
    "        val f = runtime.symbols[funcname]\n",
    "        val v = runtime.symbols[name]\n",
    "        if(f == null) {\n",
    "            throw Exception(\"$funcname does not exist.\")\n",
    "        }\n",
    "        if(f !is FuncData) {\n",
    "            throw Exception(\"$funcname is not a function.\")\n",
    "        }\n",
    "        if(arguments.size != f.parameters.size-1) {\n",
    "            throw Exception(\"$funcname expects ${f.parameters.size-1} arguments, but ${arguments.size} given.\")\n",
    "        }\n",
    "        \n",
    "        if (v is ListIntData){\n",
    "            val list = v.toString().drop(1).dropLast(1).split(\", \").map { it.toInt() }.toMutableList()        \n",
    "            var returned_list = mutableListOf<Int>()\n",
    "            \n",
    "            for (i in 0..(list.size-1)){\n",
    "                var argumentData = arguments.map {\n",
    "                    it.eval(runtime)\n",
    "                }\n",
    "                argumentData = argumentData + IntData(list[i])\n",
    "                val number_return = f.body.eval(runtime.copy(\n",
    "                                f.parameters.zip(argumentData).toMap()\n",
    "                                ))\n",
    "                print(number_return.toString().equals(\"true\"))\n",
    "                if(number_return.toString() == \"true\"){\n",
    "                    returned_list.add(number_return.toString().toInt())\n",
    "                }\n",
    "            }\n",
    "\n",
    "            return ListIntData(returned_list)\n",
    "        }\n",
    "        else if(v is ListStringData){\n",
    "            var list = v.toString().drop(1).dropLast(1).split(\", \").map { it.toString() }.toMutableList()\n",
    "            var returned_list = mutableListOf<String>()\n",
    "            for (i in 0..(list.size-1)){\n",
    "                var argumentData = arguments.map {\n",
    "                    it.eval(runtime)\n",
    "                }\n",
    "                argumentData = argumentData + StringData(list[i])\n",
    "                val string_return = f.body.eval(runtime.copy(\n",
    "                                f.parameters.zip(argumentData).toMap()\n",
    "                                ))\n",
    "                returned_list.add(string_return.toString())\n",
    "            }\n",
    "\n",
    "            return ListStringData(returned_list)            \n",
    "        }\n",
    "        else{\n",
    "            return None\n",
    "        }\n",
    "    }\n",
    "}"
   ]
  },
  {
   "cell_type": "code",
   "execution_count": 28,
   "id": "b190dba4-3dac-4261-b868-e775ab398938",
   "metadata": {},
   "outputs": [],
   "source": [
    "class DerefList(\n",
    "    val name:String,\n",
    "    val index:Expr\n",
    "): Expr() {\n",
    "    override fun eval(runtime:Runtime):Data {\n",
    "        val v = runtime.symbols[name]\n",
    "        \n",
    "        if(v is ListIntData){\n",
    "            val list = v.toString().drop(1).dropLast(1).split(\", \").map { it.toInt() }\n",
    "            return IntData(list[index])\n",
    "        }\n",
    "        else if (v is ListStringData){\n",
    "            val list = v.toString().drop(1).dropLast(1).split(\", \").map { it.toString() }\n",
    "            return StringData(list[index])\n",
    "        }\n",
    "        else{\n",
    "            return None\n",
    "        }\n",
    "    }\n",
    "}"
   ]
  },
  {
   "cell_type": "code",
   "execution_count": 32,
   "id": "81a54d89-000c-49e3-ac95-6b4c74de4a5b",
   "metadata": {
    "tags": []
   },
   "outputs": [
    {
     "data": {
      "text/plain": [
       "5"
      ]
     },
     "execution_count": 32,
     "metadata": {},
     "output_type": "execute_result"
    }
   ],
   "source": [
    "Block(\n",
    "    listOf(\n",
    "        Declare(\n",
    "            name = \"double\",\n",
    "            parameters = listOf(\"y\", \"x\"), \n",
    "            body = Block(\n",
    "                listOf(\n",
    "                    Arith(\n",
    "                        Operator.ADD,\n",
    "                        Deref(\"y\"),\n",
    "                        Arith(\n",
    "                            Operator.MUL,\n",
    "                            IntLiteral(\"2\"),\n",
    "                            Deref(\"x\")\n",
    "                        )\n",
    "                    )\n",
    "                )\n",
    "            )\n",
    "        ),\n",
    "        Declare(\n",
    "            name = \"greeting\",\n",
    "            parameters = listOf(\"x\"), \n",
    "            body = Block(\n",
    "                listOf(\n",
    "                    Arith(\n",
    "                        Operator.ADD,\n",
    "                        StringLiteral(\"Hello \"),\n",
    "                        Deref(\"x\")\n",
    "                    )\n",
    "                )\n",
    "            )\n",
    "        ),\n",
    "        Assign(\"x\", ListIntLiteral(listOf(5, 100, 5, 20, 3))),\n",
    "        Assign(\"y\", ListStringLiteral(listOf(\"Bob\", \"Tim\", \"Terry\"))),\n",
    "        Assign(\"y\",\n",
    "            MapList(\n",
    "                funcname = \"greeting\",\n",
    "                name = \"y\",\n",
    "                arguments = listOf(\n",
    "                )\n",
    "            ),\n",
    "        ),        \n",
    "        DerefList(\"x\", 0),\n",
    "    )\n",
    ")\n",
    ".eval(Runtime())"
   ]
  },
  {
   "cell_type": "code",
   "execution_count": 6,
   "id": "c1d647c9-c311-41b2-90da-09d1bb572a81",
   "metadata": {
    "tags": []
   },
   "outputs": [
    {
     "name": "stdout",
     "output_type": "stream",
     "text": [
      "true"
     ]
    },
    {
     "name": "stderr",
     "output_type": "stream",
     "text": [
      "For input string: \"true\"\n",
      "java.lang.NumberFormatException: For input string: \"true\"\n",
      "\tat java.base/java.lang.NumberFormatException.forInputString(NumberFormatException.java:65)\n",
      "\tat java.base/java.lang.Integer.parseInt(Integer.java:652)\n",
      "\tat java.base/java.lang.Integer.parseInt(Integer.java:770)\n",
      "\tat Line_4$MapListFilter.eval(Line_4.jupyter-kts:33)\n",
      "\tat backend.Assign.eval(expr.kt:88)\n",
      "\tat backend.Block.eval(expr.kt:233)\n",
      "\tat Line_5.<init>(Line_5.jupyter-kts:28)\n",
      "\tat java.base/jdk.internal.reflect.NativeConstructorAccessorImpl.newInstance0(Native Method)\n",
      "\tat java.base/jdk.internal.reflect.NativeConstructorAccessorImpl.newInstance(NativeConstructorAccessorImpl.java:62)\n",
      "\tat java.base/jdk.internal.reflect.DelegatingConstructorAccessorImpl.newInstance(DelegatingConstructorAccessorImpl.java:45)\n",
      "\tat java.base/java.lang.reflect.Constructor.newInstance(Constructor.java:490)\n",
      "\tat kotlin.script.experimental.jvm.BasicJvmScriptEvaluator.evalWithConfigAndOtherScriptsResults(BasicJvmScriptEvaluator.kt:105)\n",
      "\tat kotlin.script.experimental.jvm.BasicJvmScriptEvaluator.invoke$suspendImpl(BasicJvmScriptEvaluator.kt:47)\n",
      "\tat kotlin.script.experimental.jvm.BasicJvmScriptEvaluator.invoke(BasicJvmScriptEvaluator.kt)\n",
      "\tat kotlin.script.experimental.jvm.BasicJvmReplEvaluator.eval(BasicJvmReplEvaluator.kt:49)\n",
      "\tat org.jetbrains.kotlinx.jupyter.repl.impl.InternalEvaluatorImpl$eval$resultWithDiagnostics$1.invokeSuspend(InternalEvaluatorImpl.kt:103)\n",
      "\tat kotlin.coroutines.jvm.internal.BaseContinuationImpl.resumeWith(ContinuationImpl.kt:33)\n",
      "\tat kotlinx.coroutines.DispatchedTask.run(DispatchedTask.kt:106)\n",
      "\tat kotlinx.coroutines.EventLoopImplBase.processNextEvent(EventLoop.common.kt:284)\n",
      "\tat kotlinx.coroutines.BlockingCoroutine.joinBlocking(Builders.kt:85)\n",
      "\tat kotlinx.coroutines.BuildersKt__BuildersKt.runBlocking(Builders.kt:59)\n",
      "\tat kotlinx.coroutines.BuildersKt.runBlocking(Unknown Source)\n",
      "\tat kotlinx.coroutines.BuildersKt__BuildersKt.runBlocking$default(Builders.kt:38)\n",
      "\tat kotlinx.coroutines.BuildersKt.runBlocking$default(Unknown Source)\n",
      "\tat org.jetbrains.kotlinx.jupyter.repl.impl.InternalEvaluatorImpl.eval(InternalEvaluatorImpl.kt:103)\n",
      "\tat org.jetbrains.kotlinx.jupyter.repl.impl.CellExecutorImpl$execute$1$result$1.invoke(CellExecutorImpl.kt:71)\n",
      "\tat org.jetbrains.kotlinx.jupyter.repl.impl.CellExecutorImpl$execute$1$result$1.invoke(CellExecutorImpl.kt:69)\n",
      "\tat org.jetbrains.kotlinx.jupyter.ReplForJupyterImpl.withHost(repl.kt:635)\n",
      "\tat org.jetbrains.kotlinx.jupyter.repl.impl.CellExecutorImpl.execute(CellExecutorImpl.kt:69)\n",
      "\tat org.jetbrains.kotlinx.jupyter.repl.CellExecutor$DefaultImpls.execute$default(CellExecutor.kt:15)\n",
      "\tat org.jetbrains.kotlinx.jupyter.ReplForJupyterImpl$evalEx$1.invoke(repl.kt:444)\n",
      "\tat org.jetbrains.kotlinx.jupyter.ReplForJupyterImpl$evalEx$1.invoke(repl.kt:433)\n",
      "\tat org.jetbrains.kotlinx.jupyter.ReplForJupyterImpl.withEvalContext(repl.kt:397)\n",
      "\tat org.jetbrains.kotlinx.jupyter.ReplForJupyterImpl.evalEx(repl.kt:433)\n",
      "\tat org.jetbrains.kotlinx.jupyter.ReplForJupyterImpl.eval(repl.kt:485)\n",
      "\tat org.jetbrains.kotlinx.jupyter.messaging.ProtocolKt$shellMessagesHandler$2$res$1.invoke(protocol.kt:321)\n",
      "\tat org.jetbrains.kotlinx.jupyter.messaging.ProtocolKt$shellMessagesHandler$2$res$1.invoke(protocol.kt:320)\n",
      "\tat org.jetbrains.kotlinx.jupyter.JupyterExecutorImpl$runExecution$execThread$1.invoke(execution.kt:33)\n",
      "\tat org.jetbrains.kotlinx.jupyter.JupyterExecutorImpl$runExecution$execThread$1.invoke(execution.kt:31)\n",
      "\tat kotlin.concurrent.ThreadsKt$thread$thread$1.run(Thread.kt:30)\n"
     ]
    }
   ],
   "source": [
    "Block(\n",
    "    listOf(\n",
    "        Declare(\n",
    "            name = \"greater5\",\n",
    "            parameters = listOf(\"x\"), \n",
    "            body = Block(\n",
    "                listOf(\n",
    "                    Ifelse(\n",
    "                        Cmp(CmpOperators.LT, Deref(\"x\"), IntLiteral(\"50\")),\n",
    "                        BooleanLiteral(true),\n",
    "                        BooleanLiteral(false),\n",
    "                    )\n",
    "                )\n",
    "            )\n",
    "        ),\n",
    "\n",
    "        Assign(\"x\", ListIntLiteral(listOf(5, 100, 5, 20, 3))),\n",
    "        Assign(\"x\",\n",
    "            MapListFilter(\n",
    "                funcname = \"greater5\",\n",
    "                name = \"x\",\n",
    "                arguments = listOf(\n",
    "                )\n",
    "            ),\n",
    "        ),\n",
    "    )\n",
    ")\n",
    ".eval(Runtime())"
   ]
  },
  {
   "cell_type": "code",
   "execution_count": 26,
   "id": "cf73ef8a-e660-4410-9d87-73bc9017f3e5",
   "metadata": {
    "tags": []
   },
   "outputs": [],
   "source": [
    "class BooleanLiteral(val lexeme:Boolean):Expr() {\n",
    "    override fun eval(runtime:Runtime):Data \n",
    "    = BooleanData(lexeme)\n",
    "}\n"
   ]
  },
  {
   "cell_type": "code",
   "execution_count": 8,
   "id": "1eb6b018-8642-4a0f-b2a8-8d550bf19b2e",
   "metadata": {
    "tags": []
   },
   "outputs": [
    {
     "data": {
      "text/plain": [
       "600"
      ]
     },
     "execution_count": 8,
     "metadata": {},
     "output_type": "execute_result"
    }
   ],
   "source": [
    "Block(\n",
    "    listOf(\n",
    "        Declare(\n",
    "            name = \"add_double\",\n",
    "            parameters = listOf(\"x\", \"y\"),\n",
    "            body = Block(\n",
    "                listOf(\n",
    "                    Assign(\"z\", Arith(Operator.ADD, Deref(\"x\"), Deref(\"y\"))),\n",
    "                    Arith(Operator.MUL, IntLiteral(\"2\"), Deref(\"z\"))\n",
    "                )\n",
    "            )\n",
    "        ),\n",
    "        Assign(\"i\", IntLiteral(\"100\")),\n",
    "        Assign(\"j\", IntLiteral(\"200\")),\n",
    "        Invoke(\n",
    "            funcname = \"add_double\",\n",
    "            arguments = listOf(\n",
    "                Deref(\"i\"),\n",
    "                Deref(\"j\"),\n",
    "            )\n",
    "        )\n",
    "    )\n",
    ")\n",
    ".eval(Runtime())"
   ]
  },
  {
   "cell_type": "code",
   "execution_count": 9,
   "id": "42f9ce5b-b72d-4059-a3fc-66cd09feed1d",
   "metadata": {
    "tags": []
   },
   "outputs": [
    {
     "name": "stdout",
     "output_type": "stream",
     "text": [
      "[1, 2, 3, 2]\n"
     ]
    }
   ],
   "source": [
    "val k = mutableListOf(1,2,3)\n",
    "k.add(2)\n",
    "println(k)"
   ]
  },
  {
   "cell_type": "code",
   "execution_count": 10,
   "id": "9188eb01-51b1-42d8-bb69-5c98e395c1f7",
   "metadata": {
    "tags": []
   },
   "outputs": [
    {
     "name": "stderr",
     "output_type": "stream",
     "text": [
      "Line_9.jupyter-kts (9:25 - 28) Type mismatch: inferred type is String but Expr was expected\n",
      "Line_9.jupyter-kts (10:25 - 28) Type mismatch: inferred type is String but Expr was expected\n",
      "Line_9.jupyter-kts (11:25 - 28) Type mismatch: inferred type is String but Expr was expected\n",
      "Line_9.jupyter-kts (12:29 - 32) Type mismatch: inferred type is String but Expr was expected\n",
      "Line_9.jupyter-kts (14:27 - 30) Type mismatch: inferred type is String but Expr was expected"
     ]
    }
   ],
   "source": [
    "Block(\n",
    "    listOf(\n",
    "        Assign(\"x\", ListIntLiteral(listOf(1,2,3,4,5))),\n",
    "        Assign(\"y\", ListStringLiteral(listOf(\"Hello \", \"World \", \"Tester \"))),\n",
    "        Output(\n",
    "            listOf(\n",
    "                Deref(\"x\"),\n",
    "                DerefList(\"y\", 0),\n",
    "                MaxList(\"x\"),\n",
    "                MinList(\"x\"),\n",
    "                SumList(\"x\"),\n",
    "                AverageList(\"x\"),\n",
    "                \n",
    "                CountList(\"y\")\n",
    "            )\n",
    "        ),\n",
    "        ListAddAt(1, \"x\", IntLiteral(\"100\")),\n",
    "        ListAddFrontBack(true, \"y\", StringLiteral(\"inserted to front \")),\n",
    "        ListAddFrontBack(false, \"y\", StringLiteral(\"inserted to back \")),\n",
    "        Output(\n",
    "            listOf(\n",
    "                Deref(\"x\"),\n",
    "                Deref(\"y\")\n",
    "            )\n",
    "        ),\n",
    "        ReassignList(1, \"x\", IntLiteral(\"1000\")),\n",
    "        ReassignList(0, \"x\", IntLiteral(\"1000\")),\n",
    "        Output(\n",
    "            listOf(\n",
    "                Deref(\"x\"),\n",
    "            )\n",
    "        )\n",
    "    )\n",
    ").eval(Runtime())"
   ]
  },
  {
   "cell_type": "code",
   "execution_count": 11,
   "id": "aeaaf038-4d66-49db-83e4-2deac4ad5c9a",
   "metadata": {
    "tags": []
   },
   "outputs": [
    {
     "data": {
      "text/plain": [
       "2"
      ]
     },
     "execution_count": 11,
     "metadata": {},
     "output_type": "execute_result"
    }
   ],
   "source": [
    "listOf(\"123\",\"test\").size"
   ]
  },
  {
   "cell_type": "code",
   "execution_count": null,
   "id": "fd2934e5-835e-45e5-87b2-454f727e55f5",
   "metadata": {},
   "outputs": [],
   "source": []
  }
 ],
 "metadata": {
  "kernelspec": {
   "display_name": "Kotlin",
   "language": "kotlin",
   "name": "kotlin"
  },
  "language_info": {
   "codemirror_mode": "text/x-kotlin",
   "file_extension": ".kt",
   "mimetype": "text/x-kotlin",
   "name": "kotlin",
   "nbconvert_exporter": "",
   "pygments_lexer": "kotlin",
   "version": "1.8.0-dev-707"
  }
 },
 "nbformat": 4,
 "nbformat_minor": 5
}
